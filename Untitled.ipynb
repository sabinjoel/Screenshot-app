{
 "cells": [
  {
   "cell_type": "code",
   "execution_count": 7,
   "id": "lonely-newcastle",
   "metadata": {},
   "outputs": [],
   "source": [
    "import pyautogui \n",
    "import time\n",
    "from tkinter import *\n",
    "def screenshot():\n",
    "    name=int(round(time.time()*1000))\n",
    "    name='C:/Users/B.V.RAMANA/Desktop/my projects/Screenshot app/ss taken/{}.png'.format(name)\n",
    "    time.sleep(2)\n",
    "    img=pyautogui.screenshot(name)\n",
    "    img.show()\n",
    "r=Tk()\n",
    "r.geometry('400x400')\n",
    "b=Button(r,text=\"Click for screenshot\",command=screenshot)\n",
    "b.grid(row=1,column=1)\n",
    "b1=Button(r,text=\"Close\",command=r.destroy)\n",
    "b1.grid(row=1,column=2)\n",
    "r.mainloop()"
   ]
  },
  {
   "cell_type": "code",
   "execution_count": null,
   "id": "fundamental-adjustment",
   "metadata": {},
   "outputs": [],
   "source": []
  },
  {
   "cell_type": "code",
   "execution_count": null,
   "id": "interracial-buddy",
   "metadata": {},
   "outputs": [],
   "source": []
  }
 ],
 "metadata": {
  "kernelspec": {
   "display_name": "Python 3",
   "language": "python",
   "name": "python3"
  },
  "language_info": {
   "codemirror_mode": {
    "name": "ipython",
    "version": 3
   },
   "file_extension": ".py",
   "mimetype": "text/x-python",
   "name": "python",
   "nbconvert_exporter": "python",
   "pygments_lexer": "ipython3",
   "version": "3.9.1"
  }
 },
 "nbformat": 4,
 "nbformat_minor": 5
}
